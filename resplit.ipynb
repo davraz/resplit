{
 "cells": [
  {
   "cell_type": "markdown",
   "metadata": {},
   "source": [
    "**Recuerde no agregar o quitar celdas en este notebook, ni modificar su tipo. Si lo hace, el sistema automaticamente lo calificará con cero punto cero (0.0)**"
   ]
  },
  {
   "cell_type": "markdown",
   "metadata": {},
   "source": [
    "# Descripción"
   ]
  },
  {
   "cell_type": "markdown",
   "metadata": {},
   "source": [
    "Al finalizar esta tarea, el estudiante estará en capacidad de implementar herramientas computacionales que usan expresiones regulares para especificar patrones de búsqueda en cadenas de caracteres."
   ]
  },
  {
   "cell_type": "markdown",
   "metadata": {},
   "source": [
    "El objetivo de esta tarea es modificar el código presentado a continuación (el cual fue explicado en clase) para agregar nuevos operadores. "
   ]
  },
  {
   "cell_type": "markdown",
   "metadata": {},
   "source": [
    "El objetivo de esta tarea es aumentar la funcionalidad de la función 'resplit' presentada, para lo cual se deben agregar los operadores '|', '+' y '{}'. "
   ]
  },
  {
   "cell_type": "markdown",
   "metadata": {},
   "source": [
    "* La expresión 'ab*|cd*' indica  'ab*' OR 'cd*'. "
   ]
  },
  {
   "cell_type": "markdown",
   "metadata": {},
   "source": [
    "* La expresión 'a+' indica que 'a' debe ocurrir una o más veces. "
   ]
  },
  {
   "cell_type": "markdown",
   "metadata": {},
   "source": [
    "* La expresión 'a{2,4}' indica que 'a' debe ocurrir dos, tres o cuatro veces.  "
   ]
  },
  {
   "cell_type": "markdown",
   "metadata": {},
   "source": [
    "* Si la cadena no puede ser reconocida en su totalidad, la función resplit() debe retornar la cadena 'FAIL'."
   ]
  },
  {
   "cell_type": "code",
   "execution_count": null,
   "metadata": {
    "collapsed": false
   },
   "outputs": [],
   "source": [
    "def resplit(re, text, sep = '/'):\n",
    "    '''\n",
    "    resplit\n",
    "      esta funcion permite dividir una cadena de texto\n",
    "      en lexemas usando expresiones regulares (re)\n",
    "\n",
    "      ejemplo: resplit('abb*', 'ababbabbb') devuelve 'ab/abb/abbb'\n",
    "  \n",
    "    '''\n",
    "    \n",
    "    #\n",
    "    # Estructuras de datos.\n",
    "    #\n",
    "    #  dfa:  Es una lista de diccionarios.\n",
    "    #        El elemento i de la lista dfa es un diccionario\n",
    "    #        que representa el nodo i.\n",
    "    #        Cada clave del diccionario corresponde a un caracter\n",
    "    #        del alfabeto el autómata\n",
    "    #        Cada valor del diccionario es el siguiente estado\n",
    "    #        al que se realiza la transicion despues de leer\n",
    "    #        el caracter correspondiente a la clave\n",
    "    #\n",
    "    #        por ejemplo:\n",
    "    #\n",
    "    #        dfa = [ {a:1, b:2},    # estado 0 \n",
    "    #                {a:0, b:1},    # estado 1\n",
    "    #                {}]            # estado 2, no tiene transiciones\n",
    "    #\n",
    "    #        indica que en el estaddo 0 si se lee la `a` se\n",
    "    #        va al estado 1 y si se lee la `b` se va al estado 2.\n",
    "    #        de la misma forma si se está en el estado 1 y se lee\n",
    "    #        la `a` se va al estado 0 y si se lee la `b` se va al\n",
    "    #        estado 1.\n",
    "    #\n",
    "    #  accept_states:  es un vector de enteros que contiene los\n",
    "    #        estados de aceptación del dfa.\n",
    "    #\n",
    "\n",
    "    dfa = []\n",
    "    accept_states = []\n",
    "\n",
    "    def addch(state, c):\n",
    "        #\n",
    "        # modifique esta función si es necesario\n",
    "        #\n",
    "        #\n",
    "        # agrega el caracter `c` al automata actual:\n",
    "        #\n",
    "        #               c \n",
    "        #     state --------> next_state\n",
    "        #\n",
    "        next_state = len(dfa)       # obtiene el indice del nuevo estado\n",
    "        dfa.append(dict())          # agrega el nuevo estado al automata\n",
    "        dfa[state][c] = next_state  # crea la transición\n",
    "        return next_state           # retorna el indice del nuevo estado\n",
    "\n",
    "    \n",
    "    \n",
    "    def addch_star(state, c):\n",
    "        #\n",
    "        # modifique esta función si es necesario\n",
    "        #\n",
    "        #\n",
    "        # agrega `c*` al autómata actual:\n",
    "        #          \n",
    "        #          c\n",
    "        #    ------<-----\n",
    "        #   |            |\n",
    "        #   |            | \n",
    "        #   ->- state ->- \n",
    "        #\n",
    "        dfa[state][c] = state\n",
    "        return state\n",
    "\n",
    "    \n",
    "\n",
    "    ##\n",
    "    ## agrega c+\n",
    "    ##\n",
    "    def addch_plus(state, c):\n",
    "        #\n",
    "        # agrege su código aquí\n",
    "        #\n",
    "        pass\n",
    "    \n",
    "\n",
    "    ##\n",
    "    ## agrega c{m,n}\n",
    "    ##\n",
    "    def addch_times(state, c, m, n):\n",
    "        #\n",
    "        # agrege su código aqui\n",
    "        #\n",
    "        pass\n",
    "\n",
    "\n",
    "    \n",
    "    def do_dfa(re):\n",
    "        #\n",
    "        # modifique el código para construir el dfa\n",
    "        #\n",
    "        #\n",
    "        # construye la tabla de transiciones\n",
    "        # a partir de la expresion regular `re`\n",
    "        #\n",
    "        pos = 0      # posición en re\n",
    "        state = 0    # número del estado actual\n",
    "        \n",
    "        #\n",
    "        # este ciclo recorre todos los caracteres \n",
    "        # la expresión regular `re`\n",
    "        #\n",
    "        while pos < len(re):\n",
    "            \n",
    "            if pos+1 < len(re) and re[pos+1] == '*':\n",
    "                #\n",
    "                # hay un `*`  después del caracter actual `re[pos]` \n",
    "                # \n",
    "                state = addch_star(state, re[pos])  # crea la transición\n",
    "                pos += 1 # para saltar al caracter en `re`  después del `*`\n",
    "            \n",
    "            else:\n",
    "                #\n",
    "                # caso por defecto: no hay el `*` después del\n",
    "                # caracter actual\n",
    "                #\n",
    "                state = addch(state, re[pos]) # crea la transición\n",
    "            \n",
    "            pos += 1\n",
    "            \n",
    "        #\n",
    "        # se adiciona el último estado a la lista de\n",
    "        # estados de aceptación del automata\n",
    "        #\n",
    "        accept_states.append(state)\n",
    "        return\n",
    "        \n",
    "    def sim_dfa(text):\n",
    "        #\n",
    "        # no debe modificar esta función\n",
    "        #\n",
    "        \n",
    "        #\n",
    "        # simula la operación del dfa \n",
    "        # recorriendo los caracteres de `text`\n",
    "        #\n",
    "        \n",
    "        state = 0      # estado inicial del automata\n",
    "        pos = 0        # posicion de la cadena de texto\n",
    "        text_len = 0   # longitud del lexema reconocido\n",
    "        \n",
    "        while pos < len(text) and state != -1:\n",
    "            #\n",
    "            # este ciclo se recorre mientras no \n",
    "            # se alcance el último caracter de text o \n",
    "            # no se llege a un estado final (sin transiciones)\n",
    "            #\n",
    "            \n",
    "            d = dfa[state]   # estado actual\n",
    "            ch = text[pos]   # caracter actual\n",
    "            \n",
    "            if ch in d.keys():\n",
    "                #\n",
    "                # existe una transición del estado actual\n",
    "                # usando el caracter `ch`\n",
    "                #\n",
    "                state = d[ch]  # este es el siguiente estado\n",
    "                \n",
    "                #\n",
    "                # si el estado actual es de aceptación\n",
    "                # se reconocio un lexema\n",
    "                #\n",
    "                if state in accept_states:\n",
    "                    #\n",
    "                    text_len = pos+1\n",
    "                    #\n",
    "                    \n",
    "                pos += 1 # avanza al siguiente caracter\n",
    "                \n",
    "            elif '.' in d.keys():\n",
    "                #\n",
    "                # no existe una transición para el caracter `ch` \n",
    "                # pero la expresión regular contiene `.` \n",
    "                # (cualquier caracter)\n",
    "                #\n",
    "                \n",
    "                \n",
    "                state = d['.']  # este es el siguiente estado     \n",
    "                \n",
    "                #\n",
    "                # si el estado actual es de aceptación\n",
    "                # se reconocio un lexema\n",
    "                #\n",
    "                if state in accept_states:\n",
    "                    #\n",
    "                    text_len = pos+1\n",
    "                    #\n",
    "                \n",
    "                pos += 1 # avanza al siguiente caracter\n",
    "                \n",
    "            else:\n",
    "                #\n",
    "                # se llego a un estado final! no \n",
    "                # existen transiciones para `ch`\n",
    "                #\n",
    "                state = -1\n",
    "        \n",
    "        #\n",
    "        # retorna la longitud de la subcadena reconocida\n",
    "        #\n",
    "        return text_len\n",
    "\n",
    "    ##\n",
    "    ## esta es la rutina principal de la funcón\n",
    "    ##\n",
    "    \n",
    "    #\n",
    "    # crea un automata con un solo estado vacio\n",
    "    #\n",
    "    dfa.append(dict())\n",
    "    \n",
    "    #\n",
    "    # construye el automata a partir de la expresión regular\n",
    "    #\n",
    "    do_dfa(re)\n",
    "    \n",
    "    #\n",
    "    # en este bloque de codigo se analiza `text` por \n",
    "    # porciones.\n",
    "    #\n",
    "    m = 0       # esta es la posición inicial de la subcadena reconocida\n",
    "    n = 0       # esta es la longitud de la subcadena reconocida\n",
    "    result = '' # \n",
    "    \n",
    "    while m < len(text):\n",
    "        \n",
    "        # obtiene la longitud del siguiente lexema reconocido\n",
    "        n = sim_dfa(text[m:])\n",
    "        \n",
    "        if n == 0: # no se pudo reconocer el siguiente lexema\n",
    "            #\n",
    "            return 'FAIL'\n",
    "            #\n",
    "\n",
    "        if m != 0: # ya hay al menos un lexema reconocido\n",
    "            #\n",
    "            result += sep # agrega el separador\n",
    "            #\n",
    "            \n",
    "        result += text[m:m+n]  # agrega el lexema\n",
    "        \n",
    "        m += n  # calcula la nueva posición inicial\n",
    "        \n",
    "    return result"
   ]
  },
  {
   "cell_type": "markdown",
   "metadata": {},
   "source": [
    "# Casos de prueba\n"
   ]
  },
  {
   "cell_type": "markdown",
   "metadata": {},
   "source": [
    "A continuación se corren los casos de prueba para verificar las implementaciones solicitadas."
   ]
  },
  {
   "cell_type": "code",
   "execution_count": null,
   "metadata": {
    "collapsed": false
   },
   "outputs": [],
   "source": [
    "###__test__\n",
    "resplit('aa|ab|ac', 'aaabaaac')"
   ]
  },
  {
   "cell_type": "code",
   "execution_count": null,
   "metadata": {
    "collapsed": false
   },
   "outputs": [],
   "source": [
    "###__test__\n",
    "resplit('b+|ab|ac*', 'bbba')"
   ]
  },
  {
   "cell_type": "code",
   "execution_count": null,
   "metadata": {
    "collapsed": false
   },
   "outputs": [],
   "source": [
    "###__test__\n",
    "resplit('b+|ab|ac*', 'bbbaccab')"
   ]
  },
  {
   "cell_type": "code",
   "execution_count": null,
   "metadata": {
    "collapsed": false
   },
   "outputs": [],
   "source": [
    "###__test__\n",
    "resplit('bab*|aab*c|c+', 'cbabbaacbabbc')"
   ]
  },
  {
   "cell_type": "code",
   "execution_count": null,
   "metadata": {
    "collapsed": false
   },
   "outputs": [],
   "source": [
    "###__test__ prueb\n",
    "resplit('ab+c*', 'ababcabccabbabbcabbcc')"
   ]
  },
  {
   "cell_type": "code",
   "execution_count": null,
   "metadata": {
    "collapsed": false
   },
   "outputs": [],
   "source": [
    "###__test__\n",
    "resplit('a.b+c+', 'abbcccaabc')"
   ]
  },
  {
   "cell_type": "code",
   "execution_count": null,
   "metadata": {
    "collapsed": false
   },
   "outputs": [],
   "source": [
    "###__test__\n",
    "resplit('ab{3,5}c', 'abbbcabbbbcabbbbbc')"
   ]
  },
  {
   "cell_type": "code",
   "execution_count": null,
   "metadata": {
    "collapsed": false
   },
   "outputs": [],
   "source": [
    "###__test__\n",
    "resplit('a{1,2}b{2,3}', 'abbabbbaabbaabbb')"
   ]
  },
  {
   "cell_type": "code",
   "execution_count": null,
   "metadata": {
    "collapsed": false
   },
   "outputs": [],
   "source": [
    "###__test__\n",
    "resplit('aa+0{1,2}|aa+0{4,5}|b+', 'aa00aaa0000bbaaa00')"
   ]
  },
  {
   "cell_type": "code",
   "execution_count": null,
   "metadata": {
    "collapsed": false
   },
   "outputs": [],
   "source": [
    "###__test__\n",
    "resplit('aa+0{1,2}|aa+0{4,5}|b+', 'aa0aaa00000bbaaa00')"
   ]
  },
  {
   "cell_type": "markdown",
   "metadata": {},
   "source": [
    "---"
   ]
  }
 ],
 "metadata": {
  "kernelspec": {
   "display_name": "Python 3",
   "language": "python",
   "name": "python3"
  },
  "language_info": {
   "codemirror_mode": {
    "name": "ipython",
    "version": 3
   },
   "file_extension": ".py",
   "mimetype": "text/x-python",
   "name": "python",
   "nbconvert_exporter": "python",
   "pygments_lexer": "ipython3",
   "version": "3.6.0"
  }
 },
 "nbformat": 4,
 "nbformat_minor": 0
}
